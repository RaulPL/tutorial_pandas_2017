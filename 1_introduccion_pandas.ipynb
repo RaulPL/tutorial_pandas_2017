{
 "cells": [
  {
   "cell_type": "code",
   "execution_count": null,
   "metadata": {
    "ExecuteTime": {
     "end_time": "2017-11-20T08:18:27.001961Z",
     "start_time": "2017-11-20T08:18:26.440898Z"
    }
   },
   "outputs": [],
   "source": [
    "import os\n",
    "import glob\n",
    "import requests\n",
    "import numpy as np\n",
    "import pandas as pd\n",
    "import matplotlib.pyplot as plt\n",
    "import seaborn as sns\n",
    "from math import sqrt\n",
    "from typing import List\n",
    "\n",
    "\n",
    "%matplotlib inline\n",
    "%config IPCompleter.use_jedi = False"
   ]
  },
  {
   "cell_type": "code",
   "execution_count": null,
   "metadata": {},
   "outputs": [],
   "source": [
    "## pandas básico"
   ]
  },
  {
   "cell_type": "code",
   "execution_count": null,
   "metadata": {},
   "outputs": [],
   "source": []
  },
  {
   "cell_type": "markdown",
   "metadata": {},
   "source": [
    "## Viajes de Ecobici"
   ]
  },
  {
   "cell_type": "code",
   "execution_count": null,
   "metadata": {
    "ExecuteTime": {
     "end_time": "2017-11-19T06:22:44.193609Z",
     "start_time": "2017-11-19T06:22:43.414516Z"
    }
   },
   "outputs": [],
   "source": [
    "df_viajes = pd.read_csv('data/ecobici/2017-06.csv')\n",
    "print(df_viajes.shape)\n",
    "df_viajes.head()"
   ]
  },
  {
   "cell_type": "code",
   "execution_count": null,
   "metadata": {
    "ExecuteTime": {
     "end_time": "2017-11-19T05:59:39.934937Z",
     "start_time": "2017-11-19T05:59:39.923398Z"
    }
   },
   "outputs": [],
   "source": [
    "df_viajes.dtypes"
   ]
  },
  {
   "cell_type": "markdown",
   "metadata": {
    "ExecuteTime": {
     "end_time": "2017-11-19T05:59:51.335079Z",
     "start_time": "2017-11-19T05:59:51.108146Z"
    }
   },
   "source": [
    "## Procesar archivos"
   ]
  },
  {
   "cell_type": "code",
   "execution_count": null,
   "metadata": {
    "ExecuteTime": {
     "end_time": "2017-11-20T08:19:13.233485Z",
     "start_time": "2017-11-20T08:18:30.481208Z"
    }
   },
   "outputs": [],
   "source": [
    "\n",
    "def procesar_datos(archivos: List[str]):\n",
    "    \"\"\"Concatenar y limpiar base de datos\"\"\"\n",
    "    dfs = [\n",
    "        pd.read_csv(path, dtype={'Bici': str})\n",
    "        for path in archivos\n",
    "    ]\n",
    "    df = pd.concat(dfs, axis=0, ignore_index=True)\n",
    "    # parse dates\n",
    "    df = df.assign(\n",
    "        Fecha_Retiro=df.Fecha_Retiro + ' ' + df.Hora_Retiro,\n",
    "        Fecha_Arribo=df.Fecha_Arribo + ' ' + df.Hora_Arribo,\n",
    "    ).drop(['Hora_Retiro', 'Hora_Arribo'], axis=1)\n",
    "    df = df.assign(\n",
    "        Fecha_Retiro=pd.to_datetime(df.Fecha_Retiro, \n",
    "                                    format='%d/%m/%Y %H:%M:%S'),\n",
    "        Fecha_Arribo=pd.to_datetime(df.Fecha_Arribo,\n",
    "                                    format='%d/%m/%Y %H:%M:%S'),\n",
    "    )\n",
    "    delta = df.Fecha_Arribo - df.Fecha_Retiro\n",
    "    duracion_viaje = (delta.dt.seconds / 60).round().astype(int)\n",
    "    df = df.assign(duracion_viaje=duracion_viaje)\n",
    "    return df\n",
    "\n",
    "archivos = glob.glob('data/ecobici/*.csv')\n",
    "print(archivos)\n",
    "df_viajes = procesar_datos(archivos)\n",
    "print(df_viajes.shape)\n",
    "df_viajes.head()"
   ]
  },
  {
   "cell_type": "code",
   "execution_count": null,
   "metadata": {
    "ExecuteTime": {
     "end_time": "2017-11-20T08:20:24.590694Z",
     "start_time": "2017-11-20T08:20:24.155409Z"
    }
   },
   "outputs": [],
   "source": [
    "df_test = df_viajes.assign(mes=df_viajes.Fecha_Retiro.dt.month)\n",
    "df_test.groupby('mes').Bici.count().plot.bar()"
   ]
  },
  {
   "cell_type": "code",
   "execution_count": null,
   "metadata": {
    "ExecuteTime": {
     "end_time": "2017-11-20T08:21:41.473650Z",
     "start_time": "2017-11-20T08:21:41.023895Z"
    }
   },
   "outputs": [],
   "source": [
    "df_test = df_viajes.assign(mes=df_viajes.Fecha_Retiro.dt.month)\n",
    "df_test.groupby('mes').Bici.count().plot.bar()"
   ]
  },
  {
   "cell_type": "markdown",
   "metadata": {},
   "source": [
    "## Archivo parquet"
   ]
  },
  {
   "cell_type": "code",
   "execution_count": null,
   "metadata": {
    "ExecuteTime": {
     "end_time": "2017-11-20T08:21:35.577553Z",
     "start_time": "2017-11-20T08:21:35.041195Z"
    }
   },
   "outputs": [],
   "source": [
    "## guardar como parquet\n",
    "# df_viajes.to_parquet('data/viajes_ecobici.parquet', engine='pyarrow')\n",
    "\n",
    "# Leer parquet\n",
    "df_viajes = pd.read_parquet('data/viajes_ecobici.parquet', engine='pyarrow')\n",
    "print(df_viajes.shape)\n",
    "df_viajes.head()"
   ]
  },
  {
   "cell_type": "code",
   "execution_count": null,
   "metadata": {
    "ExecuteTime": {
     "end_time": "2017-11-19T06:25:07.030160Z",
     "start_time": "2017-11-19T06:25:06.492374Z"
    }
   },
   "outputs": [],
   "source": [
    "df_viajes.groupby('Genero_Usuario').Bici.count()"
   ]
  },
  {
   "cell_type": "code",
   "execution_count": null,
   "metadata": {
    "ExecuteTime": {
     "end_time": "2017-11-19T06:26:42.538579Z",
     "start_time": "2017-11-19T06:26:33.683919Z"
    }
   },
   "outputs": [],
   "source": [
    "with plt.style.context('seaborn-talk'):\n",
    "    df_viajes.Edad_Usuario.plot.hist(bins=50)"
   ]
  },
  {
   "cell_type": "code",
   "execution_count": null,
   "metadata": {
    "ExecuteTime": {
     "end_time": "2017-11-19T06:27:10.992942Z",
     "start_time": "2017-11-19T06:27:10.796872Z"
    }
   },
   "outputs": [],
   "source": [
    "df_viajes.Edad_Usuario.describe()"
   ]
  },
  {
   "cell_type": "code",
   "execution_count": null,
   "metadata": {
    "ExecuteTime": {
     "end_time": "2017-11-19T06:28:36.552251Z",
     "start_time": "2017-11-19T06:28:36.449419Z"
    }
   },
   "outputs": [],
   "source": [
    "df_viajes.groupby('Genero_Usuario').Edad_Usuario.mean()"
   ]
  },
  {
   "cell_type": "code",
   "execution_count": null,
   "metadata": {
    "ExecuteTime": {
     "end_time": "2017-11-19T06:30:06.093236Z",
     "start_time": "2017-11-19T06:29:57.484337Z"
    }
   },
   "outputs": [],
   "source": [
    "with plt.style.context('seaborn-talk'):\n",
    "    df_viajes.duracion_viaje.plot.hist(bins=50)"
   ]
  },
  {
   "cell_type": "code",
   "execution_count": null,
   "metadata": {
    "ExecuteTime": {
     "end_time": "2017-11-19T06:30:34.724903Z",
     "start_time": "2017-11-19T06:30:34.532055Z"
    }
   },
   "outputs": [],
   "source": [
    "df_viajes.duracion_viaje.describe()"
   ]
  },
  {
   "cell_type": "code",
   "execution_count": null,
   "metadata": {
    "ExecuteTime": {
     "end_time": "2017-11-19T22:29:40.013143Z",
     "start_time": "2017-11-19T22:29:39.648071Z"
    }
   },
   "outputs": [],
   "source": [
    "# Filtrar\n",
    "df_viajes = df_viajes.loc[df_viajes.duracion_viaje <= 60]\n",
    "df_viajes = df_viajes.loc[df_viajes.duracion_viaje > 2]\n",
    "print(df_viajes.shape)\n",
    "df_viajes.duracion_viaje.describe()"
   ]
  },
  {
   "cell_type": "code",
   "execution_count": null,
   "metadata": {
    "ExecuteTime": {
     "end_time": "2017-11-19T06:45:03.350322Z",
     "start_time": "2017-11-19T06:44:56.534339Z"
    }
   },
   "outputs": [],
   "source": [
    "with plt.style.context('seaborn-talk'):\n",
    "    df_viajes.duracion_viaje.plot.hist(bins=20)"
   ]
  },
  {
   "cell_type": "code",
   "execution_count": null,
   "metadata": {
    "ExecuteTime": {
     "end_time": "2017-11-19T22:29:44.712581Z",
     "start_time": "2017-11-19T22:29:43.862490Z"
    }
   },
   "outputs": [],
   "source": [
    "df_viajes = df_viajes.assign(dia_semana=df_viajes.Fecha_Retiro.dt.dayofweek)\n",
    "with plt.style.context('bmh'):\n",
    "    df_viajes.groupby('dia_semana').Bici.count().plot.bar(figsize=(12, 7))"
   ]
  },
  {
   "cell_type": "code",
   "execution_count": null,
   "metadata": {
    "ExecuteTime": {
     "end_time": "2017-11-19T22:29:47.500900Z",
     "start_time": "2017-11-19T22:29:46.973292Z"
    }
   },
   "outputs": [],
   "source": [
    "df_viajes = df_viajes.assign(hora_dia=df_viajes.Fecha_Retiro.dt.hour)\n",
    "with plt.style.context('randy_olson_style'):\n",
    "    df_viajes.groupby('hora_dia').Bici.count().plot.bar(figsize=(12, 7), color='firebrick')"
   ]
  },
  {
   "cell_type": "code",
   "execution_count": null,
   "metadata": {
    "ExecuteTime": {
     "end_time": "2017-11-19T22:53:59.758147Z",
     "start_time": "2017-11-19T22:53:59.512795Z"
    }
   },
   "outputs": [],
   "source": [
    "\n",
    "dias_semana = ['Lunes', 'Martes', 'Miercoles', 'Jueves', 'Viernes', 'Sabado', 'Domingo']\n",
    "dias_semana = {i: d for i, d in enumerate(dias_semana)}\n",
    "df_viajes = df_viajes.assign(\n",
    "    dia_semana=df_viajes.dia_semana.map(dias_semana)\n",
    ")\n",
    "df_viajes.head()"
   ]
  },
  {
   "cell_type": "code",
   "execution_count": null,
   "metadata": {
    "ExecuteTime": {
     "end_time": "2017-11-19T22:54:16.613466Z",
     "start_time": "2017-11-19T22:54:16.611236Z"
    }
   },
   "outputs": [],
   "source": [
    "# df_viajes.dia_semana.value_counts(dropna=False)"
   ]
  },
  {
   "cell_type": "code",
   "execution_count": null,
   "metadata": {
    "ExecuteTime": {
     "end_time": "2017-11-19T22:56:14.966417Z",
     "start_time": "2017-11-19T22:56:14.277706Z"
    }
   },
   "outputs": [],
   "source": [
    "# heatmap\n",
    "\n",
    "with plt.style.context('seaborn-talk'):\n",
    "    \n",
    "    df_table = (df_viajes.groupby(['dia_semana', 'hora_dia'], as_index=False)\n",
    "                         .Bici.count()\n",
    "                         .pivot(index='dia_semana',\n",
    "                                columns='hora_dia',\n",
    "                                values='Bici'))\n",
    "    fig, ax = plt.subplots(ncols=1, nrows=1, figsize=(20, 10))\n",
    "    sns.heatmap(df_table.reindex(dias_semana.values()), cmap='inferno', annot=True, fmt='d', ax=ax)\n",
    "    "
   ]
  },
  {
   "cell_type": "code",
   "execution_count": null,
   "metadata": {},
   "outputs": [],
   "source": []
  },
  {
   "cell_type": "code",
   "execution_count": null,
   "metadata": {
    "ExecuteTime": {
     "end_time": "2017-11-19T23:06:22.737257Z",
     "start_time": "2017-11-19T23:06:22.707515Z"
    }
   },
   "outputs": [],
   "source": []
  },
  {
   "cell_type": "code",
   "execution_count": null,
   "metadata": {
    "ExecuteTime": {
     "end_time": "2017-11-19T07:05:04.290456Z",
     "start_time": "2017-11-19T07:05:04.149902Z"
    }
   },
   "outputs": [],
   "source": [
    "\n",
    "with plt.style.context('seaborn-talk'):\n",
    "    gp = df_viajes.groupby('')"
   ]
  },
  {
   "cell_type": "code",
   "execution_count": null,
   "metadata": {
    "ExecuteTime": {
     "end_time": "2017-11-20T08:21:57.671213Z",
     "start_time": "2017-11-20T08:21:57.594623Z"
    }
   },
   "outputs": [],
   "source": [
    "df_serie_tiempo = df_viajes.set_index('Fecha_Retiro')\n",
    "df_serie_tiempo.head()"
   ]
  },
  {
   "cell_type": "code",
   "execution_count": null,
   "metadata": {},
   "outputs": [],
   "source": [
    "## Slice index"
   ]
  },
  {
   "cell_type": "code",
   "execution_count": null,
   "metadata": {
    "ExecuteTime": {
     "end_time": "2017-11-20T08:22:08.606606Z",
     "start_time": "2017-11-20T08:22:07.736712Z"
    }
   },
   "outputs": [],
   "source": [
    "with plt.style.context('randy_olson_style'):\n",
    "    df_ts = df_serie_tiempo.resample('D').Bici.count()\n",
    "    ts_mean = df_ts.rolling(10, center=True).mean()\n",
    "    ts_std = df_ts.rolling(10, center=True).std()\n",
    "    ax = df_ts.plot()\n",
    "    ax = ts_mean.plot()\n",
    "    plt.fill_between(df_ts.index,\n",
    "                     ts_mean - (1 * ts_std),\n",
    "                     ts_mean + (1 * ts_std),\n",
    "                     color='g', alpha=0.2)"
   ]
  },
  {
   "cell_type": "code",
   "execution_count": null,
   "metadata": {
    "ExecuteTime": {
     "end_time": "2017-11-20T01:11:50.864313Z",
     "start_time": "2017-11-20T01:11:50.833238Z"
    }
   },
   "outputs": [],
   "source": []
  },
  {
   "cell_type": "code",
   "execution_count": null,
   "metadata": {
    "ExecuteTime": {
     "end_time": "2017-11-20T01:06:54.860286Z",
     "start_time": "2017-11-20T01:06:54.833302Z"
    }
   },
   "outputs": [],
   "source": [
    "## Ejercicio\n",
    "## heamap de retiro-arribo\n",
    "\n",
    "\n",
    "# mask = np.zeros_like(df_aux, dtype=np.bool)\n",
    "# mask[np.triu_indices_from(mask)] = True"
   ]
  },
  {
   "cell_type": "code",
   "execution_count": null,
   "metadata": {
    "ExecuteTime": {
     "end_time": "2017-11-20T01:24:25.491351Z",
     "start_time": "2017-11-20T01:24:24.551382Z"
    }
   },
   "outputs": [],
   "source": []
  },
  {
   "cell_type": "code",
   "execution_count": null,
   "metadata": {
    "ExecuteTime": {
     "end_time": "2017-11-20T01:20:49.085646Z",
     "start_time": "2017-11-20T01:20:49.078574Z"
    }
   },
   "outputs": [],
   "source": []
  },
  {
   "cell_type": "markdown",
   "metadata": {},
   "source": [
    "## Conseguir Lat y Lons de estaciones"
   ]
  },
  {
   "cell_type": "code",
   "execution_count": null,
   "metadata": {
    "ExecuteTime": {
     "end_time": "2017-11-19T04:51:59.508816Z",
     "start_time": "2017-11-19T04:51:56.400560Z"
    }
   },
   "outputs": [],
   "source": [
    "def pedir_info_estaciones(client_id: str, client_secret: str):\n",
    "    \"\"\"Pide la información de las estaciones de ecobici.\"\"\"\n",
    "    data = {'client_id': client_id,\n",
    "            'client_secret': client_secret,\n",
    "            'grant_type': 'client_credentials'}\n",
    "    # pedir token\n",
    "    response = requests.get(\n",
    "        url='https://pubsbapi.smartbike.com/oauth/v2/token',\n",
    "        params=data)\n",
    "    if response.status_code != 200:\n",
    "        raise IOError(\n",
    "            'No se pudo conseguir token. '\n",
    "            'Respuesta diferente de 200'\n",
    "        )\n",
    "    acces_token = response.json()['access_token']\n",
    "    # pedir datos de estaciones\n",
    "    response = requests.get(\n",
    "        url='https://pubsbapi.smartbike.com/api/v1/stations.json',\n",
    "        params={'access_token': acces_token}\n",
    "    )\n",
    "    if response.status_code != 200:\n",
    "        raise IOError(\n",
    "            'No se pudo conseguir info de estaciones. '\n",
    "            'Respuesta diferente de 200'\n",
    "        )\n",
    "    estaciones_json = response.json()['stations']\n",
    "    return estaciones_json\n",
    "\n",
    "\n",
    "client_id = os.environ.get('ECOBICI_CLIENT_ID')\n",
    "client_secret = os.environ.get('ECOBICI_CLIENT_SECRET')\n",
    "\n",
    "estaciones_json = pedir_info_estaciones(client_id, client_secret)\n",
    "df_estaciones = pd.io.json.json_normalize(estaciones_json)\n",
    "df_estaciones.head()"
   ]
  },
  {
   "cell_type": "code",
   "execution_count": null,
   "metadata": {
    "ExecuteTime": {
     "end_time": "2017-11-20T01:44:31.048125Z",
     "start_time": "2017-11-20T01:44:31.044902Z"
    },
    "scrolled": true
   },
   "outputs": [],
   "source": [
    "# df_estaciones = (df_estaciones.rename(columns={'location.lat': 'latitud',\n",
    "#                                               'location.lon': 'longitud',\n",
    "#                                               'id': 'estacion_id'})\n",
    "#                               .loc[:, ['estacion_id', 'latitud', 'longitud']])\n",
    "# df_estaciones.to_csv('data/estaciones_ecobici.csv', index=False, encoding='utf-8', quoting=1)\n",
    "# df_estaciones.head()"
   ]
  },
  {
   "cell_type": "code",
   "execution_count": null,
   "metadata": {
    "ExecuteTime": {
     "end_time": "2017-11-20T02:06:28.578462Z",
     "start_time": "2017-11-20T02:06:28.568944Z"
    }
   },
   "outputs": [],
   "source": [
    "df_estaciones = pd.read_csv('data/estaciones_ecobici.csv')\n",
    "print(df_estaciones.shape)\n",
    "df_estaciones.head()"
   ]
  },
  {
   "cell_type": "code",
   "execution_count": null,
   "metadata": {
    "ExecuteTime": {
     "end_time": "2017-11-20T01:07:54.614988Z",
     "start_time": "2017-11-20T01:07:54.606424Z"
    }
   },
   "outputs": [],
   "source": []
  },
  {
   "cell_type": "code",
   "execution_count": null,
   "metadata": {
    "ExecuteTime": {
     "end_time": "2017-11-19T04:58:43.468476Z",
     "start_time": "2017-11-19T04:58:43.346543Z"
    }
   },
   "outputs": [],
   "source": [
    "with plt.style.context('seaborn-talk'):\n",
    "    df_estaciones.plot.scatter(x='longitud', y='latitud')"
   ]
  },
  {
   "cell_type": "code",
   "execution_count": null,
   "metadata": {
    "ExecuteTime": {
     "end_time": "2017-11-20T02:11:18.501999Z",
     "start_time": "2017-11-20T02:11:18.492298Z"
    }
   },
   "outputs": [],
   "source": [
    "from IPython.display import Image\n",
    "Image('SQL.png')"
   ]
  },
  {
   "cell_type": "code",
   "execution_count": null,
   "metadata": {
    "ExecuteTime": {
     "end_time": "2017-11-20T02:18:37.707736Z",
     "start_time": "2017-11-20T02:18:37.537608Z"
    }
   },
   "outputs": [],
   "source": [
    "\n",
    "columnas = ['Ciclo_Estacion_Retiro', 'Fecha_Retiro', 'Ciclo_Estacion_Arribo', 'Fecha_Arribo', 'duracion_viaje']\n",
    "\n",
    "df_viajes = df_viajes.loc[(df_viajes.duracion_viaje >= 2) & (df_viajes.duracion_viaje < 60)]\n",
    "df_viajes = df_viajes.loc[:, columnas]\n",
    "df_viajes.head()"
   ]
  },
  {
   "cell_type": "code",
   "execution_count": null,
   "metadata": {
    "ExecuteTime": {
     "end_time": "2017-11-20T02:20:44.068133Z",
     "start_time": "2017-11-20T02:20:42.743928Z"
    }
   },
   "outputs": [],
   "source": [
    "df_viajes_coords = pd.merge(df_viajes,\n",
    "                            df_estaciones,\n",
    "                            how='inner',\n",
    "                            left_on='Ciclo_Estacion_Retiro',\n",
    "                            right_on='estacion_id')\n",
    "df_viajes_coords = df_viajes_coords.drop('estacion_id', axis=1)\n",
    "df_viajes_coords = df_viajes_coords.rename(columns={'latitud': 'latitud_retiro',\n",
    "                                                    'longitud': 'longitud_retiro'})\n",
    "df_viajes_coords = pd.merge(df_viajes_coords,\n",
    "                            df_estaciones,\n",
    "                            how='inner',\n",
    "                            left_on='Ciclo_Estacion_Arribo',\n",
    "                            right_on='estacion_id')\n",
    "\n",
    "df_viajes_coords = df_viajes_coords.rename(columns={'latitud': 'latitud_arribo',\n",
    "                                                    'longitud': 'longitud_arribo'})\n",
    "\n",
    "df_viajes_coords.head()"
   ]
  },
  {
   "cell_type": "markdown",
   "metadata": {
    "ExecuteTime": {
     "end_time": "2017-11-20T02:26:28.140767Z",
     "start_time": "2017-11-20T02:26:28.137546Z"
    }
   },
   "source": [
    "## Buenas prácticas"
   ]
  },
  {
   "cell_type": "code",
   "execution_count": null,
   "metadata": {
    "ExecuteTime": {
     "end_time": "2017-11-20T03:02:01.341312Z",
     "start_time": "2017-11-20T02:58:13.195009Z"
    }
   },
   "outputs": [],
   "source": [
    "# funciona pero es muy lento (3m 48s)\n",
    "def calcular_dist_apply(row):\n",
    "    delta_lon = row.longitud_retiro - row.longitud_arribo\n",
    "    delta_lat = row.latitud_retiro - row.latitud_arribo\n",
    "    return sqrt(delta_lon ** 2 + delta_lat ** 2)\n",
    "\n",
    "distancia = df_viajes_coords.apply(calcular_dist_apply, axis=1)"
   ]
  },
  {
   "cell_type": "code",
   "execution_count": null,
   "metadata": {
    "ExecuteTime": {
     "end_time": "2017-11-20T03:02:19.487590Z",
     "start_time": "2017-11-20T03:02:19.358297Z"
    }
   },
   "outputs": [],
   "source": [
    "distancia.describe()"
   ]
  },
  {
   "cell_type": "code",
   "execution_count": null,
   "metadata": {},
   "outputs": [],
   "source": []
  },
  {
   "cell_type": "code",
   "execution_count": null,
   "metadata": {
    "ExecuteTime": {
     "end_time": "2017-11-20T03:04:30.206136Z",
     "start_time": "2017-11-20T03:04:30.108664Z"
    }
   },
   "outputs": [],
   "source": [
    "\n",
    "delta_lat = df_viajes_coords.latitud_retiro - df_viajes_coords.latitud_arribo\n",
    "delta_lon = df_viajes_coords.longitud_retiro - df_viajes_coords.longitud_arribo\n",
    "distancia = delta_lat ** 2 + delta_lon ** 2\n",
    "distancia = np.sqrt(distancia)"
   ]
  },
  {
   "cell_type": "code",
   "execution_count": null,
   "metadata": {
    "ExecuteTime": {
     "end_time": "2017-11-20T03:04:34.534121Z",
     "start_time": "2017-11-20T03:04:34.405140Z"
    }
   },
   "outputs": [],
   "source": [
    "distancia.describe()"
   ]
  },
  {
   "cell_type": "code",
   "execution_count": null,
   "metadata": {
    "ExecuteTime": {
     "end_time": "2017-11-20T03:10:34.728187Z",
     "start_time": "2017-11-20T03:10:34.595168Z"
    }
   },
   "outputs": [],
   "source": [
    "\n",
    "def calcular_distancias(df):\n",
    "    df = df.copy()\n",
    "    delta_lat = df_viajes_coords.latitud_retiro - df_viajes_coords.latitud_arribo\n",
    "    delta_lon = df_viajes_coords.longitud_retiro - df_viajes_coords.longitud_arribo\n",
    "    distancia = delta_lat ** 2 + delta_lon ** 2\n",
    "    distancia = np.sqrt(distancia)\n",
    "    return distancia\n",
    "\n",
    "distancia = calcular_distancias(df_viajes_coords)"
   ]
  },
  {
   "cell_type": "code",
   "execution_count": null,
   "metadata": {
    "ExecuteTime": {
     "end_time": "2017-11-20T03:10:39.438798Z",
     "start_time": "2017-11-20T03:10:39.432671Z"
    }
   },
   "outputs": [],
   "source": []
  }
 ],
 "metadata": {
  "kernelspec": {
   "display_name": "Python 3",
   "language": "python",
   "name": "python3"
  },
  "language_info": {
   "codemirror_mode": {
    "name": "ipython",
    "version": 3
   },
   "file_extension": ".py",
   "mimetype": "text/x-python",
   "name": "python",
   "nbconvert_exporter": "python",
   "pygments_lexer": "ipython3",
   "version": "3.6.3"
  }
 },
 "nbformat": 4,
 "nbformat_minor": 2
}
