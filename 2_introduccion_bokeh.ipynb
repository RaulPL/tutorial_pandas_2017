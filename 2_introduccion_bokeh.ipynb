{
 "cells": [
  {
   "cell_type": "code",
   "execution_count": null,
   "metadata": {
    "ExecuteTime": {
     "end_time": "2017-11-21T06:46:16.304937Z",
     "start_time": "2017-11-21T06:46:16.254752Z"
    }
   },
   "outputs": [],
   "source": [
    "import os\n",
    "import glob\n",
    "import requests\n",
    "import pyproj\n",
    "import numpy as np\n",
    "import pandas as pd\n",
    "import matplotlib.pyplot as plt\n",
    "import seaborn as sns\n",
    "from typing import List\n",
    "from string import ascii_uppercase\n",
    "\n",
    "\n",
    "from bokeh.plotting import figure\n",
    "from bokeh.io import output_notebook, show, push_notebook, output_file\n",
    "from bokeh.layouts import row\n",
    "from bokeh.models import ColumnDataSource\n",
    "from bokeh.models import LassoSelectTool, HoverTool, TapTool, LabelSet\n",
    "from bokeh.models import LinearColorMapper, ColorBar, LogColorMapper\n",
    "from bokeh.models import WMTSTileSource\n",
    "from bokeh.tile_providers import CARTODBPOSITRON, CARTODBPOSITRON_RETINA, STAMEN_TERRAIN\n",
    "from bokeh.palettes import Viridis256, Magma256, Inferno256\n",
    "\n",
    "output_notebook()\n",
    "\n",
    "\n",
    "%matplotlib inline\n",
    "%config IPCompleter.use_jedi = False"
   ]
  },
  {
   "cell_type": "code",
   "execution_count": null,
   "metadata": {
    "ExecuteTime": {
     "end_time": "2017-11-20T16:54:26.105788Z",
     "start_time": "2017-11-20T16:54:26.035131Z"
    }
   },
   "outputs": [],
   "source": [
    "from IPython.display import Image\n",
    "Image('jakevdp_landscape.png')"
   ]
  },
  {
   "cell_type": "code",
   "execution_count": null,
   "metadata": {},
   "outputs": [],
   "source": [
    "## hacer el mapa de estaciones poco a poco\n",
    "# ver como hacer el streaming o poner un slider"
   ]
  },
  {
   "cell_type": "markdown",
   "metadata": {},
   "source": [
    "## Bokeh básico"
   ]
  },
  {
   "cell_type": "code",
   "execution_count": null,
   "metadata": {
    "ExecuteTime": {
     "end_time": "2017-11-20T06:40:52.254707Z",
     "start_time": "2017-11-20T06:40:52.115798Z"
    },
    "scrolled": false
   },
   "outputs": [],
   "source": [
    "# tools=\"pan,wheel_zoom,box_zoom,reset\"\n",
    "\n",
    "p = figure(plot_width=400, plot_height=400)\n",
    "\n",
    "x = [1, 2, 3, 4, 5]\n",
    "y = [2, 5, 8, 2, 7]\n",
    "\n",
    "r = p.circle(x, y, size=20, fill_alpha=0.5)\n",
    "\n",
    "show(p)"
   ]
  },
  {
   "cell_type": "code",
   "execution_count": null,
   "metadata": {
    "ExecuteTime": {
     "end_time": "2017-11-20T06:52:53.747269Z",
     "start_time": "2017-11-20T06:52:53.672933Z"
    }
   },
   "outputs": [],
   "source": [
    "p = figure(plot_width=400, plot_height=400)\n",
    "\n",
    "data = {'x': [1, 2, 3, 4, 5],\n",
    "        'y': [2, 5, 8, 2, 7]}\n",
    "\n",
    "source = ColumnDataSource(data)\n",
    "\n",
    "r = p.circle('x', 'y', size=20,\n",
    "             source=source,\n",
    "             selection_color=\"firebrick\",\n",
    "             nonselection_fill_alpha=0.2,\n",
    "             nonselection_fill_color=\"grey\",\n",
    "             nonselection_line_color=\"firebrick\",\n",
    "             nonselection_line_alpha=1.0)\n",
    "\n",
    "p.add_tools(LassoSelectTool())\n",
    "p.add_tools(TapTool())\n",
    "\n",
    "# hover \n",
    "\n",
    "tooltips = [\n",
    "    ('x', '@x'),\n",
    "    ('y', '@y')\n",
    "]\n",
    "\n",
    "p.add_tools(HoverTool(tooltips=tooltips, mode='mouse'))\n",
    "\n",
    "show(p)"
   ]
  },
  {
   "cell_type": "code",
   "execution_count": null,
   "metadata": {
    "ExecuteTime": {
     "end_time": "2017-11-20T17:14:44.577093Z",
     "start_time": "2017-11-20T17:14:44.499606Z"
    }
   },
   "outputs": [],
   "source": [
    "p = figure(plot_width=600, plot_height=500)\n",
    "\n",
    "data = {'x': [1, 2, 3, 4, 5],\n",
    "        'y': [2, 5, 8, 2, 7],\n",
    "        'nombre': [l for l in ascii_uppercase[0:5]]}\n",
    "\n",
    "source = ColumnDataSource(data)\n",
    "\n",
    "r = p.circle('x', 'y', size=20, source=source)\n",
    "\n",
    "tooltips = [\n",
    "    ('x', '@x'),\n",
    "    ('y', '@y'),\n",
    "    ('ID', '@nombre')\n",
    "]\n",
    "\n",
    "p.add_tools(HoverTool(tooltips=tooltips, mode='mouse'))\n",
    "p.xaxis.axis_label = 'x (m)'\n",
    "p.yaxis.axis_label = 'y (m)'\n",
    "\n",
    "labels = LabelSet(x='x', y='y', text='nombre',\n",
    "                  x_offset=-5, y_offset=10, source=source)\n",
    "\n",
    "p.add_layout(labels)\n",
    "\n",
    "show(p)"
   ]
  },
  {
   "cell_type": "code",
   "execution_count": null,
   "metadata": {
    "ExecuteTime": {
     "end_time": "2017-11-20T17:15:00.643242Z",
     "start_time": "2017-11-20T17:15:00.512367Z"
    },
    "scrolled": false
   },
   "outputs": [],
   "source": [
    "p = figure(plot_width=600, plot_height=500, x_range=(0, 10), y_range=(0, 15))\n",
    "\n",
    "data = {'x': [1, 2, 3, 4, 5],\n",
    "        'y': [2, 5, 8, 2, 7],\n",
    "        'z': [20, 12, 50, 42, 29],\n",
    "        'nombre': [l for l in ascii_uppercase[0:5]]}\n",
    "\n",
    "source = ColumnDataSource(data)\n",
    "\n",
    "# colorbar\n",
    "color_mapper = LinearColorMapper(palette=Viridis256,\n",
    "                                 low=min(source.data['z']),\n",
    "                                 high=max(source.data['z']))\n",
    "\n",
    "r = p.circle('x', 'y', size=20, source=source,\n",
    "             color={'field': 'z', 'transform': color_mapper})\n",
    "\n",
    "color_bar = ColorBar(color_mapper=color_mapper, label_standoff=5, location=(0, 0), title='z')\n",
    "p.add_layout(color_bar, 'left')\n",
    "\n",
    "# hover\n",
    "tooltips = [\n",
    "    ('x', '@x'),\n",
    "    ('y', '@y'),\n",
    "    ('ID', '@nombre')\n",
    "]\n",
    "\n",
    "p.add_tools(HoverTool(tooltips=tooltips, mode='mouse'))\n",
    "p.xaxis.axis_label = 'x (m)'\n",
    "p.yaxis.axis_label = 'y (m)'\n",
    "\n",
    "# label set\n",
    "labels = LabelSet(x='x', y='y', text='nombre',\n",
    "                  x_offset=-5, y_offset=10, source=source)\n",
    "p.add_layout(labels)\n",
    "\n",
    "show(p)"
   ]
  },
  {
   "cell_type": "code",
   "execution_count": null,
   "metadata": {
    "ExecuteTime": {
     "end_time": "2017-11-20T07:38:42.345556Z",
     "start_time": "2017-11-20T07:38:42.330100Z"
    }
   },
   "outputs": [],
   "source": [
    "df = pd.DataFrame(data)\n",
    "df"
   ]
  },
  {
   "cell_type": "code",
   "execution_count": null,
   "metadata": {
    "ExecuteTime": {
     "end_time": "2017-11-20T07:30:39.394216Z",
     "start_time": "2017-11-20T07:30:39.388709Z"
    }
   },
   "outputs": [],
   "source": [
    "## Ejercicio. Gráfica de las estaciones coloreadas por número de Arribos"
   ]
  },
  {
   "cell_type": "code",
   "execution_count": null,
   "metadata": {
    "ExecuteTime": {
     "end_time": "2017-11-20T18:19:51.788481Z",
     "start_time": "2017-11-20T18:19:51.723094Z"
    }
   },
   "outputs": [],
   "source": [
    "df_estaciones = pd.read_csv('data/estaciones_ecobici.csv')\n",
    "df_estaciones.head()"
   ]
  },
  {
   "cell_type": "code",
   "execution_count": null,
   "metadata": {
    "ExecuteTime": {
     "end_time": "2017-11-20T18:19:55.980132Z",
     "start_time": "2017-11-20T18:19:54.080124Z"
    }
   },
   "outputs": [],
   "source": [
    "df_viajes = pd.read_parquet('data/viajes_ecobici.parquet', engine='pyarrow')\n",
    "df_arribos = df_viajes.groupby('Ciclo_Estacion_Arribo', as_index=False).Bici.count()\n",
    "df_arribos = df_arribos.rename(columns={'Ciclo_Estacion_Arribo': 'estacion_id',\n",
    "                                        'Bici': 'num_arribos'})\n",
    "df_arribos.head()"
   ]
  },
  {
   "cell_type": "code",
   "execution_count": null,
   "metadata": {
    "ExecuteTime": {
     "end_time": "2017-11-20T18:40:50.558664Z",
     "start_time": "2017-11-20T18:40:50.555641Z"
    }
   },
   "outputs": [],
   "source": [
    "# "
   ]
  },
  {
   "cell_type": "markdown",
   "metadata": {},
   "source": [
    "## Agregar tiles"
   ]
  },
  {
   "cell_type": "code",
   "execution_count": null,
   "metadata": {
    "ExecuteTime": {
     "end_time": "2017-11-20T19:01:47.224384Z",
     "start_time": "2017-11-20T19:01:46.474742Z"
    }
   },
   "outputs": [],
   "source": [
    "df_estaciones = pd.read_csv('data/estaciones_ecobici.csv')\n",
    "\n",
    "df_viajes = pd.read_parquet('data/viajes_ecobici.parquet', engine='pyarrow')\n",
    "df_arribos = df_viajes.groupby('Ciclo_Estacion_Arribo', as_index=False).Bici.count()\n",
    "df_arribos = df_arribos.rename(columns={'Ciclo_Estacion_Arribo': 'estacion_id',\n",
    "                                        'Bici': 'num_arribos'})\n",
    "\n",
    "\n",
    "df_mapa = pd.merge(df_estaciones, df_arribos, on='estacion_id', how='inner')\n",
    "df_mapa.head()"
   ]
  },
  {
   "cell_type": "code",
   "execution_count": null,
   "metadata": {
    "ExecuteTime": {
     "end_time": "2017-11-21T06:17:02.951217Z",
     "start_time": "2017-11-21T06:17:02.825400Z"
    }
   },
   "outputs": [],
   "source": [
    "def wgs84_to_web_mercator(latitudes,\n",
    "                          longitudes,\n",
    "                          in_proj: str = 'epsg:4326',\n",
    "                          out_proj: str = 'epsg:3857'):\n",
    "    \"\"\"Utility function to transform latitude and longitude values \n",
    "    to web marcator values\"\"\"\n",
    "    output =  pyproj.transform(pyproj.Proj(init=in_proj),\n",
    "                               pyproj.Proj(init=out_proj),\n",
    "                               longitudes, latitudes)\n",
    "    return output[::-1]\n",
    "\n",
    "lat, lon = 19.420487, -99.173006\n",
    "y, x = wgs84_to_web_mercator(lat, lon)"
   ]
  },
  {
   "cell_type": "code",
   "execution_count": null,
   "metadata": {
    "ExecuteTime": {
     "end_time": "2017-11-20T19:08:15.730372Z",
     "start_time": "2017-11-20T19:08:15.514781Z"
    }
   },
   "outputs": [],
   "source": []
  },
  {
   "cell_type": "markdown",
   "metadata": {},
   "source": [
    "## Interacciones (ipywidgets)"
   ]
  },
  {
   "cell_type": "code",
   "execution_count": null,
   "metadata": {
    "ExecuteTime": {
     "end_time": "2017-11-21T06:04:10.684442Z",
     "start_time": "2017-11-21T06:04:10.679868Z"
    }
   },
   "outputs": [],
   "source": [
    "import ipywidgets\n",
    "from ipywidgets import interact"
   ]
  },
  {
   "cell_type": "code",
   "execution_count": null,
   "metadata": {
    "ExecuteTime": {
     "end_time": "2017-11-21T06:04:11.451959Z",
     "start_time": "2017-11-21T06:04:11.438577Z"
    }
   },
   "outputs": [],
   "source": [
    "slider = ipywidgets.IntSlider()\n",
    "slider"
   ]
  },
  {
   "cell_type": "code",
   "execution_count": null,
   "metadata": {
    "ExecuteTime": {
     "end_time": "2017-11-20T19:25:29.283588Z",
     "start_time": "2017-11-20T19:25:29.275883Z"
    }
   },
   "outputs": [],
   "source": [
    "slider.value = 90"
   ]
  },
  {
   "cell_type": "code",
   "execution_count": null,
   "metadata": {
    "ExecuteTime": {
     "end_time": "2017-11-20T19:27:11.015645Z",
     "start_time": "2017-11-20T19:27:10.990927Z"
    }
   },
   "outputs": [],
   "source": [
    "texto = ipywidgets.IntText()\n",
    "texto"
   ]
  },
  {
   "cell_type": "code",
   "execution_count": null,
   "metadata": {
    "ExecuteTime": {
     "end_time": "2017-11-20T19:28:45.420732Z",
     "start_time": "2017-11-20T19:28:45.407100Z"
    }
   },
   "outputs": [],
   "source": [
    "mylink = ipywidgets.jslink((slider, 'value'), (texto, 'value'))"
   ]
  },
  {
   "cell_type": "code",
   "execution_count": null,
   "metadata": {
    "ExecuteTime": {
     "end_time": "2017-11-20T19:36:32.708966Z",
     "start_time": "2017-11-20T19:36:32.706741Z"
    }
   },
   "outputs": [],
   "source": [
    "valor = 0"
   ]
  },
  {
   "cell_type": "code",
   "execution_count": null,
   "metadata": {
    "ExecuteTime": {
     "end_time": "2017-11-20T19:39:38.145109Z",
     "start_time": "2017-11-20T19:39:38.123102Z"
    }
   },
   "outputs": [],
   "source": [
    "def funcion(x):\n",
    "    return x // 2\n",
    "\n",
    "interact(funcion, x=(0, 10));"
   ]
  },
  {
   "cell_type": "code",
   "execution_count": null,
   "metadata": {
    "ExecuteTime": {
     "end_time": "2017-11-20T19:40:34.480416Z",
     "start_time": "2017-11-20T19:40:34.457558Z"
    }
   },
   "outputs": [],
   "source": [
    "def funcion(x):\n",
    "    return x\n",
    "\n",
    "interact(funcion, x=False);"
   ]
  },
  {
   "cell_type": "code",
   "execution_count": null,
   "metadata": {
    "ExecuteTime": {
     "end_time": "2017-11-20T19:56:38.874363Z",
     "start_time": "2017-11-20T19:56:38.828804Z"
    }
   },
   "outputs": [],
   "source": [
    "def saludar(x):\n",
    "    if x == 'ES':\n",
    "        return 'Hola'\n",
    "    elif x == 'EN':\n",
    "        return 'Hello'\n",
    "    else:\n",
    "        return b'\\xF0\\x9F\\x98\\x90'.decode('utf-8')\n",
    "\n",
    "\n",
    "interact(saludar, x=['ES', 'EN', 'FR']);"
   ]
  },
  {
   "cell_type": "code",
   "execution_count": null,
   "metadata": {
    "ExecuteTime": {
     "end_time": "2017-11-20T19:48:13.451020Z",
     "start_time": "2017-11-20T19:48:13.443273Z"
    }
   },
   "outputs": [],
   "source": [
    "# x={'ES': 'Hola', 'EN': 'Hello', 'FR': b'\\xF0\\x9F\\x98\\x90'.decode('utf-8')}"
   ]
  },
  {
   "cell_type": "markdown",
   "metadata": {},
   "source": [
    "### Handles"
   ]
  },
  {
   "cell_type": "code",
   "execution_count": null,
   "metadata": {
    "ExecuteTime": {
     "end_time": "2017-11-20T20:46:46.706062Z",
     "start_time": "2017-11-20T20:46:46.635176Z"
    }
   },
   "outputs": [],
   "source": [
    "p = figure(plot_width=500, plot_height=400, x_range=(0, 8), y_range=(0, 10))\n",
    "\n",
    "data = {'x': [1, 2, 3, 4, 5],\n",
    "        'y': [2, 5, 8, 2, 7],\n",
    "        'z': [20, 12, 50, 42, 29]}\n",
    "\n",
    "source = ColumnDataSource(data)\n",
    "\n",
    "r = p.circle('x', 'y', size=20, source=source)\n",
    "\n",
    "t = show(p, notebook_handle=True)"
   ]
  },
  {
   "cell_type": "code",
   "execution_count": null,
   "metadata": {
    "ExecuteTime": {
     "end_time": "2017-11-20T20:46:53.907058Z",
     "start_time": "2017-11-20T20:46:53.902141Z"
    }
   },
   "outputs": [],
   "source": [
    "r.glyph.fill_alpha = 0.5\n",
    "\n",
    "push_notebook(handle=t)"
   ]
  },
  {
   "cell_type": "code",
   "execution_count": null,
   "metadata": {
    "ExecuteTime": {
     "end_time": "2017-11-21T06:04:40.787347Z",
     "start_time": "2017-11-21T06:04:40.784820Z"
    }
   },
   "outputs": [],
   "source": [
    "# source.data"
   ]
  },
  {
   "cell_type": "markdown",
   "metadata": {},
   "source": [
    "### Bokeh + ipywidgets"
   ]
  },
  {
   "cell_type": "code",
   "execution_count": null,
   "metadata": {
    "ExecuteTime": {
     "end_time": "2017-11-20T20:45:59.364278Z",
     "start_time": "2017-11-20T20:45:59.341261Z"
    }
   },
   "outputs": [],
   "source": [
    "x = np.linspace(0, 2*np.pi, 2000)\n",
    "y = np.sin(x)\n",
    "\n",
    "p = figure(plot_height=300, plot_width=600, y_range=(-5,5))\n",
    "r = p.line(x, y, color='purple', line_width=3)"
   ]
  },
  {
   "cell_type": "code",
   "execution_count": null,
   "metadata": {
    "ExecuteTime": {
     "end_time": "2017-11-20T20:46:01.648221Z",
     "start_time": "2017-11-20T20:46:01.627190Z"
    }
   },
   "outputs": [],
   "source": [
    "def update(f, w=1, A=1, phi=0):\n",
    "    if f == \"sin\":\n",
    "        func = np.sin\n",
    "    elif f == \"cos\":\n",
    "        func = np.cos\n",
    "    elif f == \"tan\":\n",
    "        func = np.tan\n",
    "    r.data_source.data['y'] = A * func(w * r.data_source.data['x'] + phi)\n",
    "    push_notebook(handle=t)\n"
   ]
  },
  {
   "cell_type": "code",
   "execution_count": null,
   "metadata": {
    "ExecuteTime": {
     "end_time": "2017-11-20T20:46:02.864377Z",
     "start_time": "2017-11-20T20:46:02.824229Z"
    }
   },
   "outputs": [],
   "source": [
    "t = show(p, notebook_handle=True)"
   ]
  },
  {
   "cell_type": "code",
   "execution_count": null,
   "metadata": {
    "ExecuteTime": {
     "end_time": "2017-11-20T20:46:19.938940Z",
     "start_time": "2017-11-20T20:46:19.883840Z"
    }
   },
   "outputs": [],
   "source": [
    "interact(update, f=[\"sin\", \"cos\", \"tan\"], w=(0, 100), A=(1, 5), phi=(0, 20, 0.1));"
   ]
  },
  {
   "cell_type": "markdown",
   "metadata": {},
   "source": [
    "## Ejercicio: Mapa con slider para ver los arribos por hora (7-23 horas)"
   ]
  },
  {
   "cell_type": "code",
   "execution_count": null,
   "metadata": {
    "ExecuteTime": {
     "end_time": "2017-11-21T06:46:32.357629Z",
     "start_time": "2017-11-21T06:46:32.295540Z"
    }
   },
   "outputs": [],
   "source": []
  },
  {
   "cell_type": "markdown",
   "metadata": {},
   "source": [
    "### Visualización con muchos datos\n",
    "\n",
    "* http://datashader.readthedocs.io/en/latest/\n",
    "* http://vaex.astro.rug.nl"
   ]
  },
  {
   "cell_type": "markdown",
   "metadata": {},
   "source": [
    "### Hover serie de tiempo"
   ]
  },
  {
   "cell_type": "code",
   "execution_count": null,
   "metadata": {
    "ExecuteTime": {
     "end_time": "2017-11-21T06:59:23.451821Z",
     "start_time": "2017-11-21T06:59:22.612636Z"
    }
   },
   "outputs": [],
   "source": [
    "df_ts = df_viajes.set_index('Fecha_Retiro').resample('D').Bici.count().reset_index()\n",
    "\n",
    "source = ColumnDataSource(df_ts)\n",
    "\n",
    "p = figure(width=900, height=400, x_axis_type=\"datetime\")\n",
    "\n",
    "p.line(x='Fecha_Retiro', y='Bici', line_width=1, color='gray', source=source)\n",
    "\n",
    "cr = p.circle(x='Fecha_Retiro', y='Bici', size=20, source=source,\n",
    "              fill_color=\"grey\", hover_fill_color=\"firebrick\",\n",
    "              fill_alpha=0.05, hover_alpha=0.3,\n",
    "              line_color=None, hover_line_color=\"white\")\n",
    "\n",
    "p.add_tools(HoverTool(tooltips=None, renderers=[cr], mode='vline'))\n",
    "\n",
    "show(p)"
   ]
  }
 ],
 "metadata": {
  "kernelspec": {
   "display_name": "Python 3",
   "language": "python",
   "name": "python3"
  },
  "language_info": {
   "codemirror_mode": {
    "name": "ipython",
    "version": 3
   },
   "file_extension": ".py",
   "mimetype": "text/x-python",
   "name": "python",
   "nbconvert_exporter": "python",
   "pygments_lexer": "ipython3",
   "version": "3.6.3"
  }
 },
 "nbformat": 4,
 "nbformat_minor": 2
}
